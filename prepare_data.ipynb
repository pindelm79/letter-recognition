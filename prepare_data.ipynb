{
 "cells": [
  {
   "cell_type": "code",
   "execution_count": null,
   "metadata": {},
   "outputs": [],
   "source": [
    "from torchvision import datasets\n",
    "import numpy as np\n",
    "import scipy.ndimage\n",
    "import matplotlib.pyplot as plt\n",
    "from tqdm.notebook import tqdm\n",
    "\n",
    "from letter_recognition import RNG\n",
    "\n",
    "%matplotlib inline"
   ]
  },
  {
   "cell_type": "code",
   "execution_count": null,
   "metadata": {},
   "outputs": [],
   "source": [
    "# Dataset import\n",
    "train = datasets.EMNIST(\"./letter_recognition/data/\", train=True, split=\"letters\", download=True)\n",
    "test = datasets.EMNIST(\"./letter_recognition/data/\", train=False, split=\"letters\", download=True)\n",
    "data = train + test"
   ]
  },
  {
   "cell_type": "code",
   "execution_count": null,
   "metadata": {},
   "outputs": [],
   "source": [
    "# X/Y split\n",
    "images = np.empty((len(data), 1, 28, 28))\n",
    "labels = np.empty(len(data))\n",
    "for i in tqdm(range(len(data))):\n",
    "    images[i, 0] = data[i][0]\n",
    "    labels[i] = data[i][1] - 1 # -1 because we index from 0 (A: 0, B: 1, etc...)"
   ]
  },
  {
   "cell_type": "code",
   "execution_count": null,
   "metadata": {},
   "outputs": [],
   "source": [
    "# Raw image example\n",
    "fig, ax = plt.subplots()\n",
    "ax.imshow(images[0, 0], cmap=\"gray\")\n",
    "plt.show()"
   ]
  },
  {
   "cell_type": "code",
   "execution_count": null,
   "metadata": {},
   "outputs": [],
   "source": [
    "# Rotate, flip and binarize\n",
    "images_rotated = scipy.ndimage.rotate(images, -90, axes=(2, 3))\n",
    "images_flipped = np.flip(images_rotated, 3)\n",
    "images_normalized = (images_flipped - np.min(images_flipped)) / (np.max(images_flipped) - np.min(images_flipped))"
   ]
  },
  {
   "cell_type": "code",
   "execution_count": null,
   "metadata": {},
   "outputs": [],
   "source": [
    "# Processed image example\n",
    "fig, ax = plt.subplots()\n",
    "ax.imshow(images_normalized[0, 0], cmap=\"gray\")\n",
    "plt.show()"
   ]
  },
  {
   "cell_type": "code",
   "execution_count": null,
   "metadata": {},
   "outputs": [],
   "source": [
    "# Shuffle just in case\n",
    "p = RNG.permutation(len(images_normalized))\n",
    "images_normalized = images_normalized[p]\n",
    "labels = labels[p]"
   ]
  },
  {
   "cell_type": "code",
   "execution_count": null,
   "metadata": {},
   "outputs": [],
   "source": [
    "# Numpy saving for future uses\n",
    "with open(\"letter_recognition/data/dataset/data.npz\", \"wb\") as f:\n",
    "    np.savez_compressed(f, X=images_normalized, Y=labels)"
   ]
  },
  {
   "cell_type": "code",
   "execution_count": null,
   "metadata": {},
   "outputs": [],
   "source": []
  }
 ],
 "metadata": {
  "kernelspec": {
   "display_name": "Python 3",
   "language": "python",
   "name": "python3"
  },
  "language_info": {
   "codemirror_mode": {
    "name": "ipython",
    "version": 3
   },
   "file_extension": ".py",
   "mimetype": "text/x-python",
   "name": "python",
   "nbconvert_exporter": "python",
   "pygments_lexer": "ipython3",
   "version": "3.9.0"
  },
  "metadata": {
   "interpreter": {
    "hash": "df04ab6e942708903ff5972f75852a17f8614541d86c1621a46526bb94f8dd7e"
   }
  }
 },
 "nbformat": 4,
 "nbformat_minor": 2
}