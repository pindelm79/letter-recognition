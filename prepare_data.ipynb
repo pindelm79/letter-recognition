{
 "cells": [
  {
   "cell_type": "code",
   "execution_count": 8,
   "metadata": {},
   "outputs": [],
   "source": [
    "from torchvision import datasets\n",
    "import numpy as np\n",
    "import scipy.ndimage\n",
    "import matplotlib.pyplot as plt\n",
    "from tqdm.notebook import tqdm\n",
    "\n",
    "from letter_recognition import RNG\n",
    "\n",
    "%matplotlib inline"
   ]
  },
  {
   "cell_type": "code",
   "execution_count": 9,
   "metadata": {},
   "outputs": [],
   "source": [
    "# Dataset import\n",
    "train = datasets.EMNIST(\"./letter_recognition/data/\", train=True, split=\"letters\", download=False)\n",
    "test = datasets.EMNIST(\"./letter_recognition/data/\", train=False, split=\"letters\", download=False)\n",
    "data = train + test"
   ]
  },
  {
   "cell_type": "code",
   "execution_count": 10,
   "metadata": {},
   "outputs": [
    {
     "data": {
      "application/vnd.jupyter.widget-view+json": {
       "model_id": "da81c6bd63894b99bce4be9a62df14d9",
       "version_major": 2,
       "version_minor": 0
      },
      "text/plain": [
       "  0%|          | 0/145600 [00:00<?, ?it/s]"
      ]
     },
     "metadata": {},
     "output_type": "display_data"
    },
    {
     "data": {
      "text/plain": [
       "{0.0: 5600,\n",
       " 1.0: 5600,\n",
       " 2.0: 5600,\n",
       " 3.0: 5600,\n",
       " 4.0: 5600,\n",
       " 5.0: 5600,\n",
       " 6.0: 5600,\n",
       " 7.0: 5600,\n",
       " 8.0: 5600,\n",
       " 9.0: 5600,\n",
       " 10.0: 5600,\n",
       " 11.0: 5600,\n",
       " 12.0: 5600,\n",
       " 13.0: 5600,\n",
       " 14.0: 5600,\n",
       " 15.0: 5600,\n",
       " 16.0: 5600,\n",
       " 17.0: 5600,\n",
       " 18.0: 5600,\n",
       " 19.0: 5600,\n",
       " 20.0: 5600,\n",
       " 21.0: 5600,\n",
       " 22.0: 5600,\n",
       " 23.0: 5600,\n",
       " 24.0: 5600,\n",
       " 25.0: 5600}"
      ]
     },
     "execution_count": 10,
     "metadata": {},
     "output_type": "execute_result"
    }
   ],
   "source": [
    "# X/Y split\n",
    "images = np.empty((len(data), 1, 28, 28))\n",
    "labels = np.empty(len(data))\n",
    "for i in tqdm(range(len(data))):\n",
    "    images[i, 0] = data[i][0]\n",
    "    labels[i] = data[i][1] - 1 # -1 because we index from 0 (A: 0, B: 1, etc...)\n",
    "\n",
    "unique, counts = np.unique(labels, return_counts=True)\n",
    "dict(zip(unique, counts))"
   ]
  },
  {
   "cell_type": "code",
   "execution_count": 11,
   "metadata": {},
   "outputs": [],
   "source": [
    "# Rotate, flip and binarize\n",
    "images_rotated = scipy.ndimage.rotate(images, -90, axes=(2, 3))\n",
    "images_flipped = np.flip(images_rotated, 3)\n",
    "images_normalized = (images_flipped - np.min(images_flipped)) / (np.max(images_flipped) - np.min(images_flipped))"
   ]
  },
  {
   "cell_type": "code",
   "execution_count": 12,
   "metadata": {},
   "outputs": [
    {
     "data": {
      "image/png": "[encoded data removed]",
      "text/plain": [
       "<Figure size 432x288 with 1 Axes>"
      ]
     },
     "metadata": {
      "needs_background": "light"
     },
     "output_type": "display_data"
    }
   ],
   "source": [
    "fig, ax = plt.subplots()\n",
    "ax.imshow(images_normalized[0, 0], cmap=\"gray\")\n",
    "plt.show()"
   ]
  },
  {
   "cell_type": "code",
   "execution_count": 13,
   "metadata": {},
   "outputs": [],
   "source": [
    "# Shuffle just in case\n",
    "p = RNG.permutation(len(images_normalized))\n",
    "images_normalized = images_normalized[p]\n",
    "labels = labels[p]"
   ]
  },
  {
   "cell_type": "code",
   "execution_count": 14,
   "metadata": {},
   "outputs": [],
   "source": [
    "# Numpy saving for future uses\n",
    "with open(\"letter_recognition/data/numpy/data.npy\", \"wb\") as f:\n",
    "    np.save(f, images_normalized)\n",
    "with open(\"letter_recognition/data/numpy/labels.npy\", \"wb\") as f:\n",
    "    np.save(f, labels)"
   ]
  },
  {
   "cell_type": "code",
   "execution_count": null,
   "metadata": {},
   "outputs": [],
   "source": []
  }
 ],
 "metadata": {
  "kernelspec": {
   "display_name": "Python 3",
   "language": "python",
   "name": "python3"
  },
  "language_info": {
   "codemirror_mode": {
    "name": "ipython",
    "version": 3
   },
   "file_extension": ".py",
   "mimetype": "text/x-python",
   "name": "python",
   "nbconvert_exporter": "python",
   "pygments_lexer": "ipython3",
   "version": "3.9.0"
  },
  "metadata": {
   "interpreter": {
    "hash": "df04ab6e942708903ff5972f75852a17f8614541d86c1621a46526bb94f8dd7e"
   }
  }
 },
 "nbformat": 4,
 "nbformat_minor": 2
}
