{
 "metadata": {
  "language_info": {
   "codemirror_mode": {
    "name": "ipython",
    "version": 3
   },
   "file_extension": ".py",
   "mimetype": "text/x-python",
   "name": "python",
   "nbconvert_exporter": "python",
   "pygments_lexer": "ipython3",
   "version": "3.9.0-final"
  },
  "orig_nbformat": 2,
  "kernelspec": {
   "name": "python390jvsc74a57bd0df04ab6e942708903ff5972f75852a17f8614541d86c1621a46526bb94f8dd7e",
   "display_name": "Python 3.9.0 64-bit"
  },
  "metadata": {
   "interpreter": {
    "hash": "df04ab6e942708903ff5972f75852a17f8614541d86c1621a46526bb94f8dd7e"
   }
  }
 },
 "nbformat": 4,
 "nbformat_minor": 2,
 "cells": [
  {
   "cell_type": "code",
   "execution_count": 26,
   "metadata": {},
   "outputs": [],
   "source": [
    "from torchvision import datasets\n",
    "import numpy as np\n",
    "import scipy\n",
    "import matplotlib.pyplot as plt\n",
    "from tqdm.notebook import tqdm\n",
    "\n",
    "from letter_recognition import RNG\n",
    "\n",
    "%matplotlib inline"
   ]
  },
  {
   "cell_type": "code",
   "execution_count": 27,
   "metadata": {},
   "outputs": [],
   "source": [
    "# Dataset import\n",
    "train = datasets.EMNIST(\"./letter_recognition/data/\", train=True, split=\"letters\", download=False)\n",
    "test = datasets.EMNIST(\"./letter_recognition/data/\", train=False, split=\"letters\", download=False)"
   ]
  },
  {
   "cell_type": "code",
   "execution_count": 28,
   "metadata": {},
   "outputs": [
    {
     "output_type": "display_data",
     "data": {
      "text/plain": "  0%|          | 0/145600 [00:00<?, ?it/s]",
      "application/vnd.jupyter.widget-view+json": {
       "version_major": 2,
       "version_minor": 0,
       "model_id": "f5e93ccb3c4c4ed79246d717169fa9ce"
      }
     },
     "metadata": {}
    },
    {
     "output_type": "stream",
     "name": "stdout",
     "text": [
      "145600\n"
     ]
    }
   ],
   "source": [
    "# X/Y split\n",
    "data = train + test\n",
    "\n",
    "images = np.empty((len(data), 1, 28, 28))\n",
    "labels = np.empty(len(data))\n",
    "for i in tqdm(range(len(data))):\n",
    "    images[i, 0] = data[i][0]\n",
    "    labels[i] = data[i][1] - 1 # -1 because we index from 0 (A: 0, B: 1, etc...)\n",
    "\n",
    "print(len(images))"
   ]
  },
  {
   "cell_type": "code",
   "execution_count": 29,
   "metadata": {},
   "outputs": [],
   "source": [
    "# Rotate, flip and binarize\n",
    "images_rotated = scipy.ndimage.rotate(images, -90, axes=(2, 3))\n",
    "images_flipped = np.flip(images_rotated, 3)\n",
    "images_binarized = np.where(images_flipped > 128, 1.0, 0.0)"
   ]
  },
  {
   "cell_type": "code",
   "execution_count": 30,
   "metadata": {},
   "outputs": [],
   "source": [
    "# Shuffle just in case\n",
    "p = RNG.permutation(len(images_binarized))\n",
    "images_binarized = images_binarized[p]\n",
    "labels = labels[p]"
   ]
  },
  {
   "cell_type": "code",
   "execution_count": 31,
   "metadata": {},
   "outputs": [],
   "source": [
    "# Numpy saving for future uses\n",
    "with open(\"letter_recognition/data/numpy/data.npy\", \"wb\") as f:\n",
    "    np.save(f, images_binarized)\n",
    "with open(\"letter_recognition/data/numpy/labels.npy\", \"wb\") as f:\n",
    "    np.save(f, labels)"
   ]
  },
  {
   "cell_type": "code",
   "execution_count": null,
   "metadata": {},
   "outputs": [],
   "source": []
  }
 ]
}