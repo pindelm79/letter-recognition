{
 "cells": [
  {
   "cell_type": "code",
   "execution_count": 11,
   "metadata": {},
   "outputs": [],
   "source": [
    "from torchvision import datasets\n",
    "import numpy as np\n",
    "import scipy.ndimage\n",
    "import matplotlib.pyplot as plt\n",
    "from tqdm.notebook import tqdm\n",
    "\n",
    "from letter_recognition import RNG\n",
    "\n",
    "%matplotlib inline"
   ]
  },
  {
   "cell_type": "code",
   "execution_count": 12,
   "metadata": {},
   "outputs": [
    {
     "name": "stdout",
     "output_type": "stream",
     "text": [
      "Downloading and extracting zip archive\n",
      "Downloading https://www.itl.nist.gov/iaui/vip/cs_links/EMNIST/gzip.zip to ./letter_recognition/data/EMNIST/raw/emnist.zip\n"
     ]
    },
    {
     "data": {
      "application/vnd.jupyter.widget-view+json": {
       "model_id": "414b3d5598864aebac6da6a5e9f09035",
       "version_major": 2,
       "version_minor": 0
      },
      "text/plain": [
       "  0%|          | 0/561753746 [00:00<?, ?it/s]"
      ]
     },
     "metadata": {},
     "output_type": "display_data"
    },
    {
     "name": "stdout",
     "output_type": "stream",
     "text": [
      "Extracting ./letter_recognition/data/EMNIST/raw/emnist.zip to ./letter_recognition/data/EMNIST/raw\n",
      "Processing byclass\n",
      "Processing bymerge\n",
      "Processing balanced\n",
      "Processing letters\n",
      "Processing digits\n",
      "Processing mnist\n",
      "Done!\n"
     ]
    }
   ],
   "source": [
    "# Dataset import\n",
    "train = datasets.EMNIST(\"./data/raw/\", train=True, split=\"letters\", download=True)\n",
    "test = datasets.EMNIST(\"./data/raw/\", train=False, split=\"letters\", download=True)\n",
    "data = train + test"
   ]
  },
  {
   "cell_type": "code",
   "execution_count": 13,
   "metadata": {},
   "outputs": [
    {
     "data": {
      "application/vnd.jupyter.widget-view+json": {
       "model_id": "18aa20e7d8fa4eac91125eac72bf79b7",
       "version_major": 2,
       "version_minor": 0
      },
      "text/plain": [
       "  0%|          | 0/145600 [00:00<?, ?it/s]"
      ]
     },
     "metadata": {},
     "output_type": "display_data"
    }
   ],
   "source": [
    "# X/Y split\n",
    "images = np.empty((len(data), 1, 28, 28))\n",
    "labels = np.empty(len(data))\n",
    "for i in tqdm(range(len(data))):\n",
    "    images[i, 0] = data[i][0]\n",
    "    labels[i] = data[i][1] - 1 # -1 because we index from 0 (A: 0, B: 1, etc...)"
   ]
  },
  {
   "cell_type": "code",
   "execution_count": 14,
   "metadata": {},
   "outputs": [
    {
     "data": {
      "image/png": "[encoded data removed]",
      "text/plain": [
       "<Figure size 432x288 with 1 Axes>"
      ]
     },
     "metadata": {
      "needs_background": "light"
     },
     "output_type": "display_data"
    }
   ],
   "source": [
    "# Raw image example\n",
    "fig, ax = plt.subplots()\n",
    "ax.imshow(images[0, 0], cmap=\"gray\")\n",
    "plt.show()"
   ]
  },
  {
   "cell_type": "code",
   "execution_count": 15,
   "metadata": {},
   "outputs": [
    {
     "name": "stdout",
     "output_type": "stream",
     "text": [
      "139.273713005622\n"
     ]
    }
   ],
   "source": [
    "# Rotate, flip and normalize/binarize\n",
    "images_rotated = scipy.ndimage.rotate(images, -90, axes=(2, 3))\n",
    "images_flipped = np.flip(images_rotated, 3)\n",
    "\n",
    "threshold = ((np.max(images_flipped) + np.mean(images_flipped)) / 2) * (1 - 0.2 * (1 - np.std(images_flipped) / 128))\n",
    "print(threshold)\n",
    "images_binarized = np.where(images_flipped > threshold, 1.0, 0.0)"
   ]
  },
  {
   "cell_type": "code",
   "execution_count": 16,
   "metadata": {},
   "outputs": [
    {
     "data": {
      "image/png": "[encoded data removed]",
      "text/plain": [
       "<Figure size 432x288 with 1 Axes>"
      ]
     },
     "metadata": {
      "needs_background": "light"
     },
     "output_type": "display_data"
    }
   ],
   "source": [
    "# Processed image example\n",
    "fig, ax = plt.subplots()\n",
    "ax.imshow(images_binarized[0, 0], cmap=\"gray\")\n",
    "plt.show()"
   ]
  },
  {
   "cell_type": "code",
   "execution_count": 17,
   "metadata": {},
   "outputs": [],
   "source": [
    "# Shuffle just in case\n",
    "p = RNG.permutation(len(images_normalized))\n",
    "images_binarized = images_binarized[p]\n",
    "labels = labels[p]"
   ]
  },
  {
   "cell_type": "code",
   "execution_count": 18,
   "metadata": {},
   "outputs": [],
   "source": [
    "# Numpy saving for future uses\n",
    "# with open(\"letter_recognition/data/dataset/data.npz\", \"wb\") as f:\n",
    "#     np.savez_compressed(f, X=images_binarized, Y=labels)\n",
    "with open(\"./data/processed/data.npz\", \"wb\") as f:\n",
    "    np.savez_compressed(f, X=images_binarized, Y=labels)"
   ]
  },
  {
   "cell_type": "code",
   "execution_count": null,
   "metadata": {},
   "outputs": [],
   "source": []
  }
 ],
 "metadata": {
  "kernelspec": {
   "display_name": "Python 3",
   "language": "python",
   "name": "python3"
  },
  "language_info": {
   "codemirror_mode": {
    "name": "ipython",
    "version": 3
   },
   "file_extension": ".py",
   "mimetype": "text/x-python",
   "name": "python",
   "nbconvert_exporter": "python",
   "pygments_lexer": "ipython3",
   "version": "3.8.9"
  },
  "metadata": {
   "interpreter": {
    "hash": "df04ab6e942708903ff5972f75852a17f8614541d86c1621a46526bb94f8dd7e"
   }
  }
 },
 "nbformat": 4,
 "nbformat_minor": 2
}
