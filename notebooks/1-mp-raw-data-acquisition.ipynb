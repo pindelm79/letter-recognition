{
 "cells": [
  {
   "cell_type": "code",
   "execution_count": 6,
   "id": "daf67f65",
   "metadata": {},
   "outputs": [],
   "source": [
    "import numpy as np\n",
    "from torchvision import datasets\n",
    "from tqdm.notebook import tqdm"
   ]
  },
  {
   "cell_type": "code",
   "execution_count": 5,
   "id": "5f0b109b",
   "metadata": {},
   "outputs": [
    {
     "name": "stdout",
     "output_type": "stream",
     "text": [
      "Downloading and extracting zip archive\n",
      "Downloading https://www.itl.nist.gov/iaui/vip/cs_links/EMNIST/gzip.zip to ../data/raw/EMNIST/raw/emnist.zip\n"
     ]
    },
    {
     "data": {
      "application/vnd.jupyter.widget-view+json": {
       "model_id": "84abbc9330684e6fa2d72470744fc2fe",
       "version_major": 2,
       "version_minor": 0
      },
      "text/plain": [
       "  0%|          | 0/561753746 [00:00<?, ?it/s]"
      ]
     },
     "metadata": {},
     "output_type": "display_data"
    },
    {
     "name": "stdout",
     "output_type": "stream",
     "text": [
      "Extracting ../data/raw/EMNIST/raw/emnist.zip to ../data/raw/EMNIST/raw\n",
      "Processing byclass\n"
     ]
    },
    {
     "name": "stderr",
     "output_type": "stream",
     "text": [
      "/Users/michalpindel/Library/Caches/pypoetry/virtualenvs/letter-recognition-model-api-79I1Zo2s-py3.8/lib/python3.8/site-packages/torchvision/datasets/mnist.py:502: UserWarning: The given NumPy array is not writeable, and PyTorch does not support non-writeable tensors. This means you can write to the underlying (supposedly non-writeable) NumPy array using the tensor. You may want to copy the array to protect its data or make it writeable before converting it to a tensor. This type of warning will be suppressed for the rest of this program. (Triggered internally at  ../torch/csrc/utils/tensor_numpy.cpp:143.)\n",
      "  return torch.from_numpy(parsed.astype(m[2], copy=False)).view(*s)\n"
     ]
    },
    {
     "name": "stdout",
     "output_type": "stream",
     "text": [
      "Processing bymerge\n",
      "Processing balanced\n",
      "Processing letters\n",
      "Processing digits\n",
      "Processing mnist\n",
      "Done!\n"
     ]
    },
    {
     "data": {
      "text/plain": [
       "<torch.utils.data.dataset.ConcatDataset at 0x12b411880>"
      ]
     },
     "execution_count": 5,
     "metadata": {},
     "output_type": "execute_result"
    }
   ],
   "source": [
    "# Dataset import\n",
    "train = datasets.EMNIST(\"../data/raw/\", train=True, split=\"letters\", download=True)\n",
    "test = datasets.EMNIST(\"../data/raw/\", train=False, split=\"letters\", download=True)\n",
    "data = train + test\n",
    "data"
   ]
  },
  {
   "cell_type": "code",
   "execution_count": 7,
   "id": "37d79fa5",
   "metadata": {},
   "outputs": [
    {
     "data": {
      "application/vnd.jupyter.widget-view+json": {
       "model_id": "01ea91adb1364713ad7570631181ba43",
       "version_major": 2,
       "version_minor": 0
      },
      "text/plain": [
       "  0%|          | 0/145600 [00:00<?, ?it/s]"
      ]
     },
     "metadata": {},
     "output_type": "display_data"
    }
   ],
   "source": [
    "# X/Y split\n",
    "images = np.empty((len(data), 1, 28, 28))\n",
    "labels = np.empty(len(data))\n",
    "for i in tqdm(range(len(data))):\n",
    "    images[i, 0] = data[i][0]\n",
    "    labels[i] = data[i][1] - 1 # -1 because we index from 0 (A: 0, B: 1, etc...)"
   ]
  },
  {
   "cell_type": "code",
   "execution_count": 8,
   "id": "e37fd1dd",
   "metadata": {},
   "outputs": [],
   "source": [
    "# Raw data saving\n",
    "with open(\"../data/raw/data.npz\", \"wb\") as f:\n",
    "    np.savez_compressed(f, X=images, Y=labels)"
   ]
  }
 ],
 "metadata": {
  "kernelspec": {
   "display_name": "Python 3",
   "language": "python",
   "name": "python3"
  },
  "language_info": {
   "codemirror_mode": {
    "name": "ipython",
    "version": 3
   },
   "file_extension": ".py",
   "mimetype": "text/x-python",
   "name": "python",
   "nbconvert_exporter": "python",
   "pygments_lexer": "ipython3",
   "version": "3.8.9"
  }
 },
 "nbformat": 4,
 "nbformat_minor": 5
}
