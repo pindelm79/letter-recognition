{
 "cells": [
  {
   "cell_type": "code",
   "execution_count": 11,
   "metadata": {},
   "outputs": [],
   "source": [
    "import string\n",
    "\n",
    "import numpy as np\n",
    "import scipy.ndimage\n",
    "import matplotlib.pyplot as plt\n",
    "from tqdm.notebook import tqdm\n",
    "\n",
    "from letter_recognition import RNG\n",
    "\n",
    "%matplotlib inline\n",
    "\n",
    "letters_map = {i: string.ascii_uppercase[i] for i in range(26)}"
   ]
  },
  {
   "cell_type": "code",
   "execution_count": 12,
   "metadata": {},
   "outputs": [],
   "source": [
    "# Raw data loading\n",
    "with open(\"../data/raw/data.npz\", \"rb\") as f:\n",
    "    data = np.load(f)\n",
    "    images = data[\"X\"]\n",
    "    labels = data[\"Y\"]"
   ]
  },
  {
   "cell_type": "code",
   "execution_count": 13,
   "metadata": {},
   "outputs": [
    {
     "data": {
      "image/png": "[encoded data removed]",
      "text/plain": [
       "<Figure size 432x288 with 1 Axes>"
      ]
     },
     "metadata": {
      "needs_background": "light"
     },
     "output_type": "display_data"
    },
    {
     "name": "stdout",
     "output_type": "stream",
     "text": [
      "J\n"
     ]
    }
   ],
   "source": [
    "# Raw image example\n",
    "i = RNG.integers(0, len(images))\n",
    "\n",
    "fig, ax = plt.subplots()\n",
    "ax.imshow(images[i, 0], cmap=\"gray\")\n",
    "plt.show()\n",
    "print(\"Letter:\", letters_map[labels[i]])"
   ]
  },
  {
   "cell_type": "code",
   "execution_count": 14,
   "metadata": {},
   "outputs": [
    {
     "name": "stdout",
     "output_type": "stream",
     "text": [
      "139.273713005622\n"
     ]
    }
   ],
   "source": [
    "# Rotate, flip and normalize/binarize\n",
    "images_rotated = scipy.ndimage.rotate(images, -90, axes=(2, 3))\n",
    "images_flipped = np.flip(images_rotated, 3)\n",
    "\n",
    "threshold = ((np.max(images_flipped) + np.mean(images_flipped)) / 2) * (1 - 0.2 * (1 - np.std(images_flipped) / 128))\n",
    "images_binarized = np.where(images_flipped > threshold, 1.0, 0.0)\n",
    "print(threshold)"
   ]
  },
  {
   "cell_type": "code",
   "execution_count": 26,
   "metadata": {},
   "outputs": [
    {
     "data": {
      "image/png": "[encoded data removed]",
      "text/plain": [
       "<Figure size 432x288 with 2 Axes>"
      ]
     },
     "metadata": {
      "needs_background": "light"
     },
     "output_type": "display_data"
    },
    {
     "name": "stdout",
     "output_type": "stream",
     "text": [
      "Letter: W\n"
     ]
    }
   ],
   "source": [
    "# Before/after image example\n",
    "i = RNG.integers(0, len(images))\n",
    "\n",
    "fig, axs = plt.subplots(1, 2)\n",
    "axs[0].imshow(images[i, 0], cmap=\"gray\")\n",
    "axs[1].imshow(images_binarized[i, 0], cmap=\"gray\")\n",
    "plt.show()\n",
    "\n",
    "print(\"Letter:\", letters_map[labels[i]])"
   ]
  },
  {
   "cell_type": "code",
   "execution_count": 27,
   "metadata": {},
   "outputs": [],
   "source": [
    "# Numpy saving for future uses\n",
    "with open(\"../data/processed/data.npz\", \"wb\") as f:\n",
    "    np.savez_compressed(f, X=images_binarized, Y=labels)"
   ]
  }
 ],
 "metadata": {
  "kernelspec": {
   "display_name": "Python 3",
   "language": "python",
   "name": "python3"
  },
  "language_info": {
   "codemirror_mode": {
    "name": "ipython",
    "version": 3
   },
   "file_extension": ".py",
   "mimetype": "text/x-python",
   "name": "python",
   "nbconvert_exporter": "python",
   "pygments_lexer": "ipython3",
   "version": "3.8.9"
  },
  "metadata": {
   "interpreter": {
    "hash": "df04ab6e942708903ff5972f75852a17f8614541d86c1621a46526bb94f8dd7e"
   }
  }
 },
 "nbformat": 4,
 "nbformat_minor": 2
}
