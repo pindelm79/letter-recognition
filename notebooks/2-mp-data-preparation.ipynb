{
 "cells": [
  {
   "cell_type": "code",
   "execution_count": 91,
   "metadata": {},
   "outputs": [],
   "source": [
    "import string\n",
    "\n",
    "import numpy as np\n",
    "import scipy.ndimage\n",
    "import matplotlib.pyplot as plt\n",
    "from tqdm.notebook import tqdm\n",
    "\n",
    "from letter_recognition import RNG\n",
    "\n",
    "%matplotlib inline\n",
    "\n",
    "letters_map = {i: string.ascii_uppercase[i] for i in range(26)}"
   ]
  },
  {
   "cell_type": "code",
   "execution_count": 92,
   "metadata": {},
   "outputs": [
    {
     "data": {
      "image/png": "[encoded data removed]",
      "text/plain": [
       "<Figure size 432x288 with 1 Axes>"
      ]
     },
     "metadata": {
      "needs_background": "light"
     },
     "output_type": "display_data"
    },
    {
     "name": "stdout",
     "output_type": "stream",
     "text": [
      "Letter: R\n"
     ]
    }
   ],
   "source": [
    "# Raw data loading\n",
    "with open(\"../data/raw/data.npz\", \"rb\") as f:\n",
    "    data = np.load(f)\n",
    "    images = data[\"X\"]\n",
    "    labels = data[\"Y\"]\n",
    "images_raw = images.copy()\n",
    "\n",
    "# Raw image example\n",
    "i = RNG.integers(0, len(images))\n",
    "fig, ax = plt.subplots()\n",
    "ax.imshow(images[i, 0], cmap=\"gray\")\n",
    "plt.show()\n",
    "print(\"Letter:\", letters_map[labels[i]])"
   ]
  },
  {
   "cell_type": "code",
   "execution_count": 93,
   "metadata": {},
   "outputs": [
    {
     "data": {
      "image/png": "[encoded data removed]",
      "text/plain": [
       "<Figure size 432x288 with 2 Axes>"
      ]
     },
     "metadata": {
      "needs_background": "light"
     },
     "output_type": "display_data"
    },
    {
     "name": "stdout",
     "output_type": "stream",
     "text": [
      "Letter: M\n"
     ]
    }
   ],
   "source": [
    "# Processing - flipping\n",
    "images = np.flip(images, 3)\n",
    "\n",
    "# Before/after\n",
    "i = RNG.integers(0, len(images))\n",
    "fig, axs = plt.subplots(1, 2)\n",
    "axs[0].imshow(images_raw[i, 0], cmap=\"gray\")\n",
    "axs[1].imshow(images[i, 0], cmap=\"gray\")\n",
    "plt.show()\n",
    "print(\"Letter:\", letters_map[labels[i]])"
   ]
  },
  {
   "cell_type": "code",
   "execution_count": 94,
   "metadata": {},
   "outputs": [
    {
     "data": {
      "application/vnd.jupyter.widget-view+json": {
       "model_id": "ba4d60d5f1974cd4908a3cab51b47b6a",
       "version_major": 2,
       "version_minor": 0
      },
      "text/plain": [
       "  0%|          | 0/145600 [00:00<?, ?it/s]"
      ]
     },
     "metadata": {},
     "output_type": "display_data"
    },
    {
     "data": {
      "image/png": "[encoded data removed]",
      "text/plain": [
       "<Figure size 432x288 with 2 Axes>"
      ]
     },
     "metadata": {
      "needs_background": "light"
     },
     "output_type": "display_data"
    },
    {
     "name": "stdout",
     "output_type": "stream",
     "text": [
      "Letter: J\n"
     ]
    }
   ],
   "source": [
    "# Processing - rotation (+/- random angle)\n",
    "for i in tqdm(range(len(images))):\n",
    "    angle = RNG.integers(-30, 31)\n",
    "    images[i, 0] = scipy.ndimage.rotate(images[i, 0], 90 + angle, reshape=False)\n",
    "    \n",
    "# Before/after\n",
    "i = RNG.integers(0, len(images))\n",
    "fig, axs = plt.subplots(1, 2)\n",
    "axs[0].imshow(images_raw[i, 0], cmap=\"gray\")\n",
    "axs[1].imshow(images[i, 0], cmap=\"gray\")\n",
    "plt.show()\n",
    "print(\"Letter:\", letters_map[labels[i]])"
   ]
  },
  {
   "cell_type": "code",
   "execution_count": 95,
   "metadata": {},
   "outputs": [
    {
     "name": "stdout",
     "output_type": "stream",
     "text": [
      "Threshold: 172.5888301184883\n"
     ]
    },
    {
     "data": {
      "image/png": "[encoded data removed]",
      "text/plain": [
       "<Figure size 432x288 with 2 Axes>"
      ]
     },
     "metadata": {
      "needs_background": "light"
     },
     "output_type": "display_data"
    },
    {
     "name": "stdout",
     "output_type": "stream",
     "text": [
      "Letter: J\n"
     ]
    }
   ],
   "source": [
    "# Processing - binarization\n",
    "threshold = ((np.max(images) + np.mean(images)) / 2) * (1 - 0.2 * (1 - np.std(images) / 128))\n",
    "print(\"Threshold:\", threshold)\n",
    "images = np.where(images > threshold, 1.0, 0.0)\n",
    "\n",
    "# Before/after\n",
    "i = RNG.integers(0, len(images))\n",
    "fig, axs = plt.subplots(1, 2)\n",
    "axs[0].imshow(images_raw[i, 0], cmap=\"gray\")\n",
    "axs[1].imshow(images[i, 0], cmap=\"gray\")\n",
    "plt.show()\n",
    "print(\"Letter:\", letters_map[labels[i]])"
   ]
  },
  {
   "cell_type": "code",
   "execution_count": 96,
   "metadata": {},
   "outputs": [],
   "source": [
    "# Numpy saving for future uses\n",
    "with open(\"../data/processed/data.npz\", \"wb\") as f:\n",
    "    np.savez_compressed(f, X=images, Y=labels)"
   ]
  }
 ],
 "metadata": {
  "kernelspec": {
   "display_name": "Python 3",
   "language": "python",
   "name": "python3"
  },
  "language_info": {
   "codemirror_mode": {
    "name": "ipython",
    "version": 3
   },
   "file_extension": ".py",
   "mimetype": "text/x-python",
   "name": "python",
   "nbconvert_exporter": "python",
   "pygments_lexer": "ipython3",
   "version": "3.8.9"
  },
  "metadata": {
   "interpreter": {
    "hash": "df04ab6e942708903ff5972f75852a17f8614541d86c1621a46526bb94f8dd7e"
   }
  }
 },
 "nbformat": 4,
 "nbformat_minor": 2
}
