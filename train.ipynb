{
 "metadata": {
  "language_info": {
   "codemirror_mode": {
    "name": "ipython",
    "version": 3
   },
   "file_extension": ".py",
   "mimetype": "text/x-python",
   "name": "python",
   "nbconvert_exporter": "python",
   "pygments_lexer": "ipython3",
   "version": "3.9.0-final"
  },
  "orig_nbformat": 2,
  "kernelspec": {
   "name": "python390jvsc74a57bd0df04ab6e942708903ff5972f75852a17f8614541d86c1621a46526bb94f8dd7e",
   "display_name": "Python 3.9.0 64-bit"
  },
  "metadata": {
   "interpreter": {
    "hash": "df04ab6e942708903ff5972f75852a17f8614541d86c1621a46526bb94f8dd7e"
   }
  }
 },
 "nbformat": 4,
 "nbformat_minor": 2,
 "cells": [
  {
   "cell_type": "code",
   "execution_count": null,
   "metadata": {},
   "outputs": [],
   "source": [
    "import numpy as np\n",
    "import matplotlib.pyplot as plt\n",
    "from tqdm.notebook import tqdm\n",
    "\n",
    "import letter_recognition.nn.activation as activation\n",
    "import letter_recognition.nn.layers as nn\n",
    "import letter_recognition.nn.loss as loss\n",
    "from letter_recognition import RNG\n",
    "\n",
    "%matplotlib inline"
   ]
  },
  {
   "cell_type": "code",
   "execution_count": null,
   "metadata": {},
   "outputs": [],
   "source": [
    "# Load data\n",
    "with open(\"letter_recognition/data/numpy/data.npy\", \"rb\") as f:\n",
    "    images = np.load(f)\n",
    "with open(\"letter_recognition/data/numpy/labels.npy\", \"rb\") as f:\n",
    "    labels = np.load(f)\n",
    "print(len(images), len(labels))"
   ]
  },
  {
   "cell_type": "code",
   "execution_count": null,
   "metadata": {},
   "outputs": [],
   "source": [
    "train_percentage = 0.67\n",
    "split_point = int(len(images) * 0.67)\n",
    "x_train, y_train = images[:split_point], labels[:split_point]\n",
    "x_test, y_test = images[split_point:], labels[split_point:]\n",
    "print(len(x_train), len(y_train))"
   ]
  },
  {
   "cell_type": "code",
   "execution_count": null,
   "metadata": {},
   "outputs": [],
   "source": [
    "# Model definition\n",
    "conv1_out_channels = 8\n",
    "conv1_kernel_size = (3, 3)\n",
    "max_pool1_size = 2\n",
    "linear1_in_feat = conv1_out_channels * 13 * 13\n",
    "linear1_out_feat = 128\n",
    "lr = 0.01\n",
    "batch_size = 8\n",
    "epoch_number = 4\n",
    "\n",
    "# Model architecture\n",
    "conv1 = nn.Conv2d(1, conv1_out_channels, conv1_kernel_size)\n",
    "relu = activation.ReLU()\n",
    "maxpool1 = nn.MaxPool2d(max_pool1_size)\n",
    "linear1 = nn.Linear(linear1_in_feat, linear1_out_feat)\n",
    "linear2 = nn.Linear(linear1_out_feat, 26)\n",
    "criterion = loss.CrossEntropy()"
   ]
  },
  {
   "cell_type": "code",
   "execution_count": null,
   "metadata": {},
   "outputs": [],
   "source": [
    "scale_factor = 128\n",
    "x_train = x_train[:len(x_train) // scale_factor]\n",
    "y_train = y_train[:len(y_train) // scale_factor]\n",
    "\n",
    "fig, ax = plt.subplots()\n",
    "epoch_list = []\n",
    "train_loss_list = []\n",
    "loss_sum = 0\n",
    "\n",
    "for epoch in tqdm(range(epoch_number)):\n",
    "    # Shuffle\n",
    "    p = RNG.permutation(len(x_train))\n",
    "    x_train = x_train[p]\n",
    "    y_train = y_train[p]\n",
    "\n",
    "    # Batch split\n",
    "    x_batches = np.array_split(x_train, len(x_train) // batch_size)\n",
    "    y_batches = np.array_split(y_train, len(y_train) // batch_size)\n",
    "\n",
    "    # Train\n",
    "    for x, y in zip(x_batches, y_batches):        \n",
    "        # Forward pass\n",
    "        out_conv1 = conv1.forward(x)\n",
    "        out_relu1 = relu.forward(out_conv1)\n",
    "        out_maxpool1, idx_maxpool1 = maxpool1.forward(out_relu1)\n",
    "        out_maxpool1_reshaped = out_maxpool1.reshape(out_maxpool1.shape[0], linear1_in_feat)\n",
    "        out_linear1 = linear1.forward(out_maxpool1_reshaped)\n",
    "        out_relu2 = relu.forward(out_linear1)\n",
    "        out_linear2 = linear2.forward(out_relu2)\n",
    "        current_loss = criterion.calculate(out_linear2, y)\n",
    "\n",
    "        # Gradient calculation\n",
    "        dx_loss = criterion.backward(out_linear2, y)\n",
    "        dx_linear2, dw_linear2, db_linear2 = linear2.backward(dx_loss, out_relu2)\n",
    "        dx_relu2 = relu.backward(dx_linear2, out_linear1)\n",
    "        dx_linear1, dw_linear1, db_linear1 = linear1.backward(dx_relu2, out_maxpool1_reshaped)\n",
    "        dx_linear1 = dx_linear1.reshape(out_maxpool1.shape)\n",
    "        dx_maxpool1 = maxpool1.backward(dx_linear1, out_relu1, idx_maxpool1)\n",
    "        dx_relu1 = relu.backward(dx_maxpool1, out_conv1)\n",
    "        _, dw_conv1, db_conv1 = conv1.backward(dx_relu1, x)\n",
    "\n",
    "        # SGD\n",
    "        conv1.weight -= lr * dw_conv1\n",
    "        conv1.bias -= lr * db_conv1\n",
    "        linear1.weight -= lr * dw_linear1\n",
    "        linear1.bias -= lr * db_linear1\n",
    "        linear2.weight -= lr * dw_linear2\n",
    "        linear2.bias -= lr * db_linear2\n",
    "\n",
    "        # Loss tracking\n",
    "        loss_sum += current_loss\n",
    "\n",
    "    epoch_list.append(epoch + 1)\n",
    "    train_loss_list.append(loss_sum / len(x_batches))\n",
    "    loss_sum = 0\n",
    "\n",
    "ax.plot(epoch_list, train_loss_list)\n",
    "ax.set(xlabel=\"Epoch\", ylabel=\"Loss\")\n",
    "fig.savefig(\"figs/model1.jpg\")\n",
    "plt.show()"
   ]
  },
  {
   "cell_type": "code",
   "execution_count": null,
   "metadata": {},
   "outputs": [],
   "source": []
  }
 ]
}